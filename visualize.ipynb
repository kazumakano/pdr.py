{
 "cells": [
  {
   "cell_type": "code",
   "execution_count": null,
   "metadata": {},
   "outputs": [],
   "source": [
    "from datetime import datetime\n",
    "from script.direction_estimator import DirectEstimator\n",
    "from script.distance_estimator import DistEstimator\n",
    "from script.log import Log\n",
    "from script.parameter import set_params"
   ]
  },
  {
   "cell_type": "code",
   "execution_count": null,
   "metadata": {},
   "outputs": [],
   "source": [
    "set_params(\"config/default.yaml\");"
   ]
  },
  {
   "cell_type": "code",
   "execution_count": null,
   "metadata": {},
   "outputs": [],
   "source": [
    "begin = datetime(2000, 1, 1, 0, 0, 0)\n",
    "end = datetime(2000, 1, 1, 23, 59, 59)\n",
    "log_file = \"log/sample_inertial.pkl\"\n",
    "\n",
    "log = Log(begin, end, log_file)\n",
    "distor = DistEstimator(log.val[:, 0:3], log.ts)\n",
    "director = DirectEstimator(log.val[:, 3:6], log.ts)\n",
    "distor.init_vis()\n",
    "director.init_vis()"
   ]
  },
  {
   "cell_type": "code",
   "execution_count": null,
   "metadata": {},
   "outputs": [],
   "source": [
    "vis_begin = datetime(2000, 1, 1, 0, 0, 0)\n",
    "vis_end = datetime(2000, 1, 1, 0, 1, 0)"
   ]
  },
  {
   "cell_type": "code",
   "execution_count": null,
   "metadata": {},
   "outputs": [],
   "source": [
    "log.vis(vis_begin, vis_end, False)"
   ]
  },
  {
   "cell_type": "code",
   "execution_count": null,
   "metadata": {},
   "outputs": [],
   "source": [
    "distor.run_vis(vis_begin, vis_end)"
   ]
  },
  {
   "cell_type": "code",
   "execution_count": null,
   "metadata": {},
   "outputs": [],
   "source": [
    "director.run_vis(vis_begin, vis_end)"
   ]
  }
 ],
 "metadata": {
  "interpreter": {
   "hash": "31f2aee4e71d21fbe5cf8b01ff0e069b9275f58929596ceb00d14d90e3e16cd6"
  },
  "kernelspec": {
   "display_name": "Python 3.8.9 64-bit",
   "language": "python",
   "name": "python3"
  },
  "language_info": {
   "codemirror_mode": {
    "name": "ipython",
    "version": 3
   },
   "file_extension": ".py",
   "mimetype": "text/x-python",
   "name": "python",
   "nbconvert_exporter": "python",
   "pygments_lexer": "ipython3",
   "version": "3.9.10"
  },
  "orig_nbformat": 4
 },
 "nbformat": 4,
 "nbformat_minor": 2
}
